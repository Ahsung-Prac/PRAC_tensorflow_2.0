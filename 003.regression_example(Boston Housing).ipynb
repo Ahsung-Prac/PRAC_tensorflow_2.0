{
 "cells": [
  {
   "cell_type": "code",
   "execution_count": 1,
   "metadata": {},
   "outputs": [],
   "source": [
    "import tensorflow as tf\n",
    "import matplotlib.pyplot as plt\n",
    "import numpy as np\n",
    "from tensorflow.keras.datasets import boston_housing"
   ]
  },
  {
   "cell_type": "code",
   "execution_count": 2,
   "metadata": {},
   "outputs": [],
   "source": [
    "(train_X,train_Y),(test_X,test_Y) = boston_housing.load_data()"
   ]
  },
  {
   "cell_type": "code",
   "execution_count": 3,
   "metadata": {},
   "outputs": [
    {
     "name": "stdout",
     "output_type": "stream",
     "text": [
      "(404, 13)\n",
      "(404,)\n"
     ]
    }
   ],
   "source": [
    "# 404개 데이터 한 데이터에 13개 입력..\n",
    "# 범죄율, 25,000평방피트당 주거지역 비율, 비소매 상업지구 비율 등등...13개\n",
    "print(train_X.shape)\n",
    "\n",
    "# 404개 데이터의 정답\n",
    "print(train_Y.shape)"
   ]
  },
  {
   "cell_type": "code",
   "execution_count": 4,
   "metadata": {},
   "outputs": [
    {
     "name": "stdout",
     "output_type": "stream",
     "text": [
      "[3.74511057e+00 1.14801980e+01 1.11044307e+01 6.18811881e-02\n",
      " 5.57355941e-01 6.26708168e+00 6.90106436e+01 3.74027079e+00\n",
      " 9.44059406e+00 4.05898515e+02 1.84759901e+01 3.54783168e+02\n",
      " 1.27408168e+01] \n",
      "\n",
      " [9.22929073e+00 2.37382770e+01 6.80287253e+00 2.40939633e-01\n",
      " 1.17147847e-01 7.08908627e-01 2.79060634e+01 2.02770050e+00\n",
      " 8.68758849e+00 1.66168506e+02 2.19765689e+00 9.39946015e+01\n",
      " 7.24556085e+00]\n"
     ]
    }
   ],
   "source": [
    "# train data 정규화!\n",
    "\n",
    "# 평균! 책과는 다르게... 각 속성별로 평균과 편차를 내봤다..\n",
    "x_mean = train_X.mean(axis=0)\n",
    "x_std = train_X.std(axis=0)\n",
    "print(x_mean,'\\n\\n',x_std)"
   ]
  },
  {
   "cell_type": "code",
   "execution_count": 5,
   "metadata": {},
   "outputs": [],
   "source": [
    "train_X -= x_mean\n",
    "train_X /= x_std"
   ]
  },
  {
   "cell_type": "code",
   "execution_count": 6,
   "metadata": {},
   "outputs": [
    {
     "data": {
      "text/plain": [
       "array([9.22929073e+00, 2.37382770e+01, 6.80287253e+00, 2.40939633e-01,\n",
       "       1.17147847e-01, 7.08908627e-01, 2.79060634e+01, 2.02770050e+00,\n",
       "       8.68758849e+00, 1.66168506e+02, 2.19765689e+00, 9.39946015e+01,\n",
       "       7.24556085e+00])"
      ]
     },
     "execution_count": 6,
     "metadata": {},
     "output_type": "execute_result"
    }
   ],
   "source": [
    "test_X -= x_mean\n",
    "test_X /= x_std\n",
    "x_std"
   ]
  },
  {
   "cell_type": "code",
   "execution_count": 7,
   "metadata": {},
   "outputs": [],
   "source": [
    "y_mean = train_Y.mean(axis=0)\n",
    "y_std = train_Y.std(axis=0)"
   ]
  },
  {
   "cell_type": "code",
   "execution_count": 8,
   "metadata": {},
   "outputs": [],
   "source": [
    "train_Y -= y_mean\n",
    "train_Y /= y_std\n",
    "test_Y -= y_mean\n",
    "test_Y /= y_std"
   ]
  },
  {
   "cell_type": "code",
   "execution_count": 9,
   "metadata": {},
   "outputs": [
    {
     "name": "stdout",
     "output_type": "stream",
     "text": [
      "[-0.27224633 -0.48361547 -0.43576161 -0.25683275 -0.1652266  -0.1764426\n",
      "  0.81306188  0.1166983  -0.62624905 -0.59517003  1.14850044  0.44807713\n",
      "  0.8252202 ]\n",
      "-0.7821526033779157\n"
     ]
    }
   ],
   "source": [
    "print(train_X[0])\n",
    "print(train_Y[0])"
   ]
  },
  {
   "cell_type": "code",
   "execution_count": 10,
   "metadata": {},
   "outputs": [],
   "source": [
    "#마지막 출력은 항등함수!!\n",
    "model = tf.keras.Sequential([\n",
    "    tf.keras.layers.Dense(units=52, activation='relu', input_shape = (13,)),\n",
    "    tf.keras.layers.Dense(units=39, activation='relu'),\n",
    "    tf.keras.layers.Dense(units=26,activation ='relu'),\n",
    "    tf.keras.layers.Dense(units=1)\n",
    "])"
   ]
  },
  {
   "cell_type": "code",
   "execution_count": 11,
   "metadata": {},
   "outputs": [
    {
     "name": "stdout",
     "output_type": "stream",
     "text": [
      "Model: \"sequential\"\n",
      "_________________________________________________________________\n",
      "Layer (type)                 Output Shape              Param #   \n",
      "=================================================================\n",
      "dense (Dense)                (None, 52)                728       \n",
      "_________________________________________________________________\n",
      "dense_1 (Dense)              (None, 39)                2067      \n",
      "_________________________________________________________________\n",
      "dense_2 (Dense)              (None, 26)                1040      \n",
      "_________________________________________________________________\n",
      "dense_3 (Dense)              (None, 1)                 27        \n",
      "=================================================================\n",
      "Total params: 3,862\n",
      "Trainable params: 3,862\n",
      "Non-trainable params: 0\n",
      "_________________________________________________________________\n"
     ]
    }
   ],
   "source": [
    "# 모델의 마지막 부분이 항등함수 출력이므로 그냥, mse를 손실함수로 사용한다.\n",
    "model.compile(optimizer=tf.keras.optimizers.Adam(lr = 0.05),loss = 'mse')\n",
    "model.summary()"
   ]
  },
  {
   "cell_type": "code",
   "execution_count": 12,
   "metadata": {},
   "outputs": [
    {
     "name": "stdout",
     "output_type": "stream",
     "text": [
      "Train on 303 samples, validate on 101 samples\n",
      "Epoch 1/50\n",
      "303/303 [==============================] - 1s 2ms/sample - loss: 0.9296 - val_loss: 0.5841\n",
      "Epoch 2/50\n",
      "303/303 [==============================] - 0s 69us/sample - loss: 0.2947 - val_loss: 0.3637\n",
      "Epoch 3/50\n",
      "303/303 [==============================] - 0s 80us/sample - loss: 0.2106 - val_loss: 0.2132\n",
      "Epoch 4/50\n",
      "303/303 [==============================] - 0s 81us/sample - loss: 0.1726 - val_loss: 0.2946\n",
      "Epoch 5/50\n",
      "303/303 [==============================] - 0s 75us/sample - loss: 0.1804 - val_loss: 0.1694\n",
      "Epoch 6/50\n",
      "303/303 [==============================] - 0s 80us/sample - loss: 0.1240 - val_loss: 0.2068\n",
      "Epoch 7/50\n",
      "303/303 [==============================] - 0s 70us/sample - loss: 0.1322 - val_loss: 0.1405\n",
      "Epoch 8/50\n",
      "303/303 [==============================] - 0s 76us/sample - loss: 0.1188 - val_loss: 0.1240\n",
      "Epoch 9/50\n",
      "303/303 [==============================] - 0s 79us/sample - loss: 0.1039 - val_loss: 0.1148\n",
      "Epoch 10/50\n",
      "303/303 [==============================] - 0s 71us/sample - loss: 0.0808 - val_loss: 0.1628\n",
      "Epoch 11/50\n",
      "303/303 [==============================] - 0s 66us/sample - loss: 0.0826 - val_loss: 0.1203\n",
      "Epoch 12/50\n",
      "303/303 [==============================] - 0s 66us/sample - loss: 0.1148 - val_loss: 0.1239\n",
      "Epoch 13/50\n",
      "303/303 [==============================] - 0s 70us/sample - loss: 0.1105 - val_loss: 0.2813\n",
      "Epoch 14/50\n",
      "303/303 [==============================] - 0s 77us/sample - loss: 0.1962 - val_loss: 0.1903\n"
     ]
    }
   ],
   "source": [
    "# validation == 검증데이터...\n",
    "# 확실히 평균을 각각의 속성별로 내니까, 책보다 loss 손실률이 적게 학습되는듯!!\n",
    "history = model.fit(train_X,train_Y,epochs=50,batch_size=32,validation_split = 0.25,\n",
    "                   callbacks = [tf.keras.callbacks.EarlyStopping(patience=5,monitor='val_loss')])"
   ]
  },
  {
   "cell_type": "code",
   "execution_count": 13,
   "metadata": {},
   "outputs": [
    {
     "data": {
      "image/png": "[encoded data removed]",
      "text/plain": [
       "<Figure size 432x288 with 1 Axes>"
      ]
     },
     "metadata": {
      "needs_background": "light"
     },
     "output_type": "display_data"
    }
   ],
   "source": [
    "plt.plot(history.history['loss'],'b-',label='loss')\n",
    "plt.plot(history.history['val_loss'],'r--',label='val_loss')\n",
    "plt.xlabel('Epoch')\n",
    "plt.legend()\n",
    "plt.show()"
   ]
  },
  {
   "cell_type": "code",
   "execution_count": 14,
   "metadata": {},
   "outputs": [
    {
     "name": "stdout",
     "output_type": "stream",
     "text": [
      "\r",
      "102/1 [====================================================================================================================================================================================================================================================================================================================================================================================================================================================================================================================================================================================================================================================================================================================================================================================================================================================================================================================================================================================================================================================================================================================================================================================================================================================================================================================================================================================================================================================================================================================================================================================================================================================================================================================================================================================================================================================================================================================================================================================================================================================================================================================================================================================================================================================================================================================================================================================================================================================================================================================================================================================================================================================================================================================================================================================================================================================================================================================================================================================================================================================================================================================================================================================] - 0s 28us/sample - loss: 0.3066\n"
     ]
    },
    {
     "data": {
      "text/plain": [
       "0.21604988446422652"
      ]
     },
     "execution_count": 14,
     "metadata": {},
     "output_type": "execute_result"
    }
   ],
   "source": [
    "model.evaluate(test_X,test_Y)"
   ]
  },
  {
   "cell_type": "code",
   "execution_count": 14,
   "metadata": {},
   "outputs": [
    {
     "data": {
      "image/png": "[encoded data removed]",
      "text/plain": [
       "<Figure size 360x360 with 1 Axes>"
      ]
     },
     "metadata": {
      "needs_background": "light"
     },
     "output_type": "display_data"
    }
   ],
   "source": [
    "pred_Y = model.predict(test_X)\n",
    "\n",
    "# 5,5박스로 맞춘후\n",
    "plt.figure(figsize=(5,5))\n",
    "#  x,y축으로 지정하고  y=x 함수와 비교\n",
    "plt.plot(test_Y,pred_Y,'b.')\n",
    "plt.show()"
   ]
  },
  {
   "cell_type": "code",
   "execution_count": null,
   "metadata": {},
   "outputs": [],
   "source": []
  }
 ],
 "metadata": {
  "kernelspec": {
   "display_name": "tensorflow2.0",
   "language": "python",
   "name": "tensorflow2.0"
  },
  "language_info": {
   "codemirror_mode": {
    "name": "ipython",
    "version": 3
   },
   "file_extension": ".py",
   "mimetype": "text/x-python",
   "name": "python",
   "nbconvert_exporter": "python",
   "pygments_lexer": "ipython3",
   "version": "3.6.9"
  }
 },
 "nbformat": 4,
 "nbformat_minor": 2
}
