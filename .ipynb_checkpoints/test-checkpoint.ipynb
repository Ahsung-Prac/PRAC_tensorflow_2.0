{
 "cells": [
  {
   "cell_type": "code",
   "execution_count": 53,
   "metadata": {},
   "outputs": [
    {
     "name": "stdout",
     "output_type": "stream",
     "text": [
      "1번:\n",
      "peperoni\n",
      "hawaian\n",
      "supreme\n",
      "\n",
      "2번:\n",
      "['dog', 'dog', 'goldfish', 'rabbit']\n",
      "\n",
      "3번:\n",
      "1st\n",
      "2nd\n",
      "3rd\n",
      "4th\n",
      "5th\n",
      "6th\n",
      "7th\n",
      "8th\n",
      "9th\n",
      "\n",
      "4번:\n",
      "\n",
      "4-1번:\n",
      "admin 이름 있음!\n",
      "maty 이름 있음!\n",
      "\n",
      "4-2번:\n",
      "['admin', 'dan', 'angie', 'maty', 'sharelle', 'rhoda', 'jake', 'ronny', 'andy']\n",
      "\n",
      "4-3번:\n",
      "['admin', 'maty']\n"
     ]
    }
   ],
   "source": [
    "# 1\n",
    "print(\"1번:\")\n",
    "pizza = ['peperoni','hawaian','supreme']\n",
    "for p in pizza:\n",
    "    print(p)\n",
    "\n",
    "pets = ['dog', 'cat', 'dog', 'goldfish', 'cat', 'rabbit','cat']\n",
    "\n",
    "# 2\n",
    "print(\"\\n2번:\")\n",
    "while pets.count('cat') != 0:\n",
    "    pets.remove('cat')\n",
    "    \n",
    "print(pets)\n",
    "\n",
    "\n",
    "# 3\n",
    "print(\"\\n3번:\")\n",
    "num1_9 =  [i for i in range(1,10)]\n",
    "for n in num1_9:\n",
    "    if n == 1 : print(n,\"st\",sep=\"\")\n",
    "    elif n == 2 : print(n,\"nd\",sep=\"\")\n",
    "    elif n == 3 : print(n,\"rd\",sep=\"\")\n",
    "    else:\n",
    "        print(n,\"th\",sep=\"\")\n",
    "        \n",
    "# 4\n",
    "print(\"\\n4번:\")\n",
    "new_users = ['admin', 'jake', 'maty', 'ronny', 'andy']\n",
    "current_users = ['admin', 'dan', 'angie', 'maty', 'sharelle', 'rhoda']\n",
    "#4-1\n",
    "print(\"\\n4-1번:\")\n",
    "for name in new_users:\n",
    "    if name in current_users:\n",
    "        print(name,\"이름 있음!\")\n",
    "#4-2\n",
    "print(\"\\n4-2번:\")\n",
    "for name in new_users:\n",
    "    if name not in current_users:\n",
    "        current_users.append(name)\n",
    "print(current_users)\n",
    "\n",
    "#4-3\n",
    "print(\"\\n4-3번:\")\n",
    "#다시 리셋\n",
    "new_users = ['admin', 'jake', 'maty', 'ronny', 'andy']\n",
    "current_users = ['admin', 'dan', 'angie', 'maty', 'sharelle', 'rhoda']\n",
    "cur_idx = 0\n",
    "while True:\n",
    "    if(cur_idx >= len(new_users)) :break;\n",
    "    if new_users[cur_idx] not in current_users:\n",
    "        new_users.pop(cur_idx)\n",
    "    else : cur_idx+=1\n",
    "\n",
    "print(new_users)"
   ]
  },
  {
   "cell_type": "code",
   "execution_count": 3,
   "metadata": {},
   "outputs": [],
   "source": []
  },
  {
   "cell_type": "code",
   "execution_count": 33,
   "metadata": {},
   "outputs": [
    {
     "data": {
      "text/plain": [
       "array([[1, 2, 3]])"
      ]
     },
     "execution_count": 33,
     "metadata": {},
     "output_type": "execute_result"
    }
   ],
   "source": []
  },
  {
   "cell_type": "code",
   "execution_count": null,
   "metadata": {},
   "outputs": [],
   "source": []
  }
 ],
 "metadata": {
  "kernelspec": {
   "display_name": "tensorflow2.0",
   "language": "python",
   "name": "tensorflow2.0"
  },
  "language_info": {
   "codemirror_mode": {
    "name": "ipython",
    "version": 3
   },
   "file_extension": ".py",
   "mimetype": "text/x-python",
   "name": "python",
   "nbconvert_exporter": "python",
   "pygments_lexer": "ipython3",
   "version": "3.6.9"
  }
 },
 "nbformat": 4,
 "nbformat_minor": 2
}
