{
 "cells": [
  {
   "cell_type": "code",
   "execution_count": 1,
   "metadata": {},
   "outputs": [],
   "source": [
    "import tensorflow as tf\n",
    "import tensorflow.compat.v1 as tfc\n",
    "import math\n",
    "import numpy as np"
   ]
  },
  {
   "cell_type": "code",
   "execution_count": 2,
   "metadata": {},
   "outputs": [
    {
     "data": {
      "text/plain": [
       "'2.0.0'"
      ]
     },
     "execution_count": 2,
     "metadata": {},
     "output_type": "execute_result"
    }
   ],
   "source": [
    "tf.__version__"
   ]
  },
  {
   "cell_type": "code",
   "execution_count": 3,
   "metadata": {},
   "outputs": [],
   "source": [
    "def sigmoid(x):\n",
    "    return 1/(1+math.exp(-x))"
   ]
  },
  {
   "cell_type": "code",
   "execution_count": 4,
   "metadata": {},
   "outputs": [
    {
     "name": "stdout",
     "output_type": "stream",
     "text": [
      "tf.Tensor([-2.3277073 -0.6070664], shape=(2,), dtype=float32) tf.Tensor([-0.25288934], shape=(1,), dtype=float32)\n"
     ]
    }
   ],
   "source": [
    "#입력\n",
    "x = np.array([[1,1],[1,0],[0,1],[0,0]])\n",
    "\n",
    "# AND게이트의 정답\n",
    "y = np.array([[1],[0],[0],[0]])\n",
    "\n",
    "# weight는 정규분포 랜덤값으로 2개\n",
    "w = tf.random.normal([2],0,1)\n",
    "\n",
    "# bias는 정규분포 랜덤값으로 1개\n",
    "b = tf.random.normal([1],0,1)\n",
    "\n",
    "\n",
    "print(w,b)"
   ]
  },
  {
   "cell_type": "code",
   "execution_count": 5,
   "metadata": {},
   "outputs": [
    {
     "name": "stdout",
     "output_type": "stream",
     "text": [
      "0 0.08880316565394292\n",
      "200 -0.11795868586973313\n",
      "400 -0.06831715729591374\n",
      "600 -0.04799696451130586\n",
      "800 -0.036883174422150285\n",
      "1000 -0.02989145087982281\n",
      "1200 -0.025098096737264652\n",
      "1400 -0.021611571754633213\n",
      "1600 -0.018966590414991404\n",
      "1800 -0.01689023972634635\n",
      "2000 -0.015219869359490691\n"
     ]
    }
   ],
   "source": [
    "for i in range(2001):\n",
    "    error_sum =0\n",
    "    \n",
    "    #4가지 입력에 대해서 순회\n",
    "    for j in range(4):\n",
    "        output = sigmoid(np.dot(x[j],w)+b)\n",
    "        # 간단한 손실함수\n",
    "        error = y[j][0] - output\n",
    "        # 간단한 경사하강\n",
    "        w= w+x[j]*0.1*error\n",
    "        b = b + 0.1*error\n",
    "        error_sum += error\n",
    "    if i % 200 == 0:\n",
    "        print(i,error_sum)"
   ]
  },
  {
   "cell_type": "code",
   "execution_count": 6,
   "metadata": {},
   "outputs": [
    {
     "name": "stdout",
     "output_type": "stream",
     "text": [
      "X: [1 1] Y: [1] OUTPUTs 0.9644676315009699\n",
      "X: [1 0] Y: [0] OUTPUTs 0.025177168096383783\n",
      "X: [0 1] Y: [0] OUTPUTs 0.0252551347910547\n",
      "X: [0 0] Y: [0] OUTPUTs 2.4652769523982032e-05\n"
     ]
    }
   ],
   "source": [
    "for i in range(4):\n",
    "    print(\"X:\",x[i],\"Y:\",y[i],\"OUTPUTs\",sigmoid(np.dot(x[i],w)+b))"
   ]
  },
  {
   "cell_type": "code",
   "execution_count": 7,
   "metadata": {},
   "outputs": [],
   "source": [
    "# 2층망 모델\n",
    "model = tf.keras.Sequential([\n",
    "    tf.keras.layers.Dense(units=2,activation=\"sigmoid\",input_shape=(2,)),\n",
    "    tf.keras.layers.Dense(units=1,activation=\"sigmoid\")\n",
    "])"
   ]
  },
  {
   "cell_type": "code",
   "execution_count": 8,
   "metadata": {},
   "outputs": [
    {
     "name": "stdout",
     "output_type": "stream",
     "text": [
      "Model: \"sequential\"\n",
      "_________________________________________________________________\n",
      "Layer (type)                 Output Shape              Param #   \n",
      "=================================================================\n",
      "dense (Dense)                (None, 2)                 6         \n",
      "_________________________________________________________________\n",
      "dense_1 (Dense)              (None, 1)                 3         \n",
      "=================================================================\n",
      "Total params: 9\n",
      "Trainable params: 9\n",
      "Non-trainable params: 0\n",
      "_________________________________________________________________\n"
     ]
    }
   ],
   "source": [
    "# SGD 경사하강법,, 손실함수는 mse = 오차제곱평균\n",
    "model.compile(optimizer = tf.keras.optimizers.SGD(lr=0.1),loss=\"mse\")\n",
    "\n",
    "# 첫 layer는 인풋이 2개 이므로 각 node마다 weight 2개 bias 1개  총 6개\n",
    "# 둘째 layer는 노드 한개 인풋은 2,(전 노드의 유닛수) 이므로 weight 2개 bias 1개  총 3개\n",
    "model.summary()"
   ]
  },
  {
   "cell_type": "code",
   "execution_count": 9,
   "metadata": {},
   "outputs": [],
   "source": [
    "y = np.array([[0],[1],[1],[0]])"
   ]
  },
  {
   "cell_type": "code",
   "execution_count": 10,
   "metadata": {},
   "outputs": [],
   "source": [
    "history = model.fit(x,y,epochs=4000,batch_size=1,verbose=0)"
   ]
  },
  {
   "cell_type": "code",
   "execution_count": 11,
   "metadata": {},
   "outputs": [
    {
     "data": {
      "text/plain": [
       "array([[0.07142587],\n",
       "       [0.93461794],\n",
       "       [0.934977  ],\n",
       "       [0.06893765]], dtype=float32)"
      ]
     },
     "execution_count": 11,
     "metadata": {},
     "output_type": "execute_result"
    }
   ],
   "source": [
    "model.predict(x)"
   ]
  },
  {
   "cell_type": "code",
   "execution_count": 12,
   "metadata": {},
   "outputs": [
    {
     "name": "stdout",
     "output_type": "stream",
     "text": [
      "<tf.Variable 'dense/kernel:0' shape=(2, 2) dtype=float32, numpy=\n",
      "array([[3.5387537, 5.689587 ],\n",
      "       [3.5561113, 5.7859826]], dtype=float32)>\n",
      "<tf.Variable 'dense/bias:0' shape=(2,) dtype=float32, numpy=array([-5.416084 , -2.3332376], dtype=float32)>\n",
      "<tf.Variable 'dense_1/kernel:0' shape=(2, 1) dtype=float32, numpy=\n",
      "array([[-7.6951942],\n",
      "       [ 7.119317 ]], dtype=float32)>\n",
      "<tf.Variable 'dense_1/bias:0' shape=(1,) dtype=float32, numpy=array([-3.1984737], dtype=float32)>\n"
     ]
    }
   ],
   "source": [
    "for weight in model.weights:\n",
    "    print(weight)"
   ]
  },
  {
   "cell_type": "code",
   "execution_count": 13,
   "metadata": {},
   "outputs": [],
   "source": [
    "import matplotlib.pyplot as plt"
   ]
  },
  {
   "cell_type": "code",
   "execution_count": 27,
   "metadata": {},
   "outputs": [],
   "source": [
    "x = range(20)\n",
    "y = tf.random.normal([20],0,1)"
   ]
  },
  {
   "cell_type": "code",
   "execution_count": 28,
   "metadata": {},
   "outputs": [
    {
     "data": {
      "image/png": "[encoded data removed]",
      "text/plain": [
       "<Figure size 432x288 with 1 Axes>"
      ]
     },
     "metadata": {
      "needs_background": "light"
     },
     "output_type": "display_data"
    }
   ],
   "source": [
    "plt.plot(x,y,'b--')\n",
    "plt.show()"
   ]
  },
  {
   "cell_type": "code",
   "execution_count": 29,
   "metadata": {},
   "outputs": [],
   "source": [
    "rnadom_normal = tf.random.normal([100000],0,1)"
   ]
  },
  {
   "cell_type": "code",
   "execution_count": 32,
   "metadata": {},
   "outputs": [
    {
     "data": {
      "image/png": "[encoded data removed]",
      "text/plain": [
       "<Figure size 432x288 with 1 Axes>"
      ]
     },
     "metadata": {
      "needs_background": "light"
     },
     "output_type": "display_data"
    }
   ],
   "source": [
    "# 히스토 그램 범위 안에 개수를 나타낸다...\n",
    "# bins에 따라 나누는 영역 범위가 결정됨,,, 저 네모난 박스 크기... 크게 할 수록 더 큰 범위 네모..\n",
    "plt.hist(rnadom_normal,bins=100)\n",
    "plt.show()"
   ]
  },
  {
   "cell_type": "code",
   "execution_count": 34,
   "metadata": {},
   "outputs": [
    {
     "data": {
      "image/png": "[encoded data removed]",
      "text/plain": [
       "<Figure size 432x288 with 1 Axes>"
      ]
     },
     "metadata": {
      "needs_background": "light"
     },
     "output_type": "display_data"
    }
   ],
   "source": [
    "plt.plot(history.history['loss'])\n",
    "plt.show()"
   ]
  },
  {
   "cell_type": "code",
   "execution_count": null,
   "metadata": {},
   "outputs": [],
   "source": []
  }
 ],
 "metadata": {
  "kernelspec": {
   "display_name": "tensorflow2.0",
   "language": "python",
   "name": "tensorflow2.0"
  },
  "language_info": {
   "codemirror_mode": {
    "name": "ipython",
    "version": 3
   },
   "file_extension": ".py",
   "mimetype": "text/x-python",
   "name": "python",
   "nbconvert_exporter": "python",
   "pygments_lexer": "ipython3",
   "version": "3.6.9"
  }
 },
 "nbformat": 4,
 "nbformat_minor": 2
}
